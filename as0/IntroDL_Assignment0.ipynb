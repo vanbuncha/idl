{
 "cells": [
  {
   "cell_type": "code",
   "execution_count": null,
   "metadata": {
    "colab": {
     "base_uri": "https://localhost:8080/"
    },
    "id": "8CLKQ1x52bS1",
    "outputId": "61320067-231d-455a-e839-9c496d18f3b8"
   },
   "outputs": [],
   "source": [
    "#%pip install pandas\n",
    "#%pip install scipy\n",
    "#%pip install matplotlib\n",
    "#%pip install seaborn\n",
    "#%pip install scikit-learn\n",
    "#%pip install umap-learn\n"
   ]
  },
  {
   "cell_type": "code",
   "execution_count": null,
   "metadata": {
    "id": "6_C_09_jaiG6"
   },
   "outputs": [],
   "source": [
    "import pandas as pd\n",
    "#from google.colab import auth\n",
    "from scipy.spatial.distance import pdist, squareform\n",
    "import matplotlib.pyplot as plt\n",
    "import seaborn as sns\n",
    "from sklearn.decomposition import PCA\n",
    "from sklearn.manifold import TSNE\n",
    "from umap import UMAP\n",
    "from sklearn.neighbors import NearestCentroid, KNeighborsClassifier\n",
    "from sklearn.metrics import confusion_matrix\n",
    "\n",
    "#auth.authenticate_user()"
   ]
  },
  {
   "cell_type": "markdown",
   "metadata": {
    "id": "CpQpv1DBfhcH"
   },
   "source": [
    "# Import Dataset"
   ]
  },
  {
   "cell_type": "code",
   "execution_count": 67,
   "metadata": {
    "id": "CBm-uJXibGLv"
   },
   "outputs": [],
   "source": [
    "train_in = pd.read_csv(\"data/train_in.csv\", header=None)\n",
    "train_out = pd.read_csv(\"data/train_out.csv\", header=None, names=[\"label\"])\n",
    "test_in = pd.read_csv(\"data/test_in.csv\", header=None)\n",
    "test_out = pd.read_csv(\"data/test_out.csv\", header=None, names=[\"label\"])\n",
    "\n",
    "#train_in = pd.read_csv(\"/content/DL_assignment/train_in - Copy.csv\", header=None)\n",
    "#train_out = pd.read_csv(\"/content/DL_assignment/train_out - Copy.csv\", header=None, names=[\"label\"])\n",
    "#test_in = pd.read_csv(\"/content/DL_assignment/test_in - Copy.csv\", header=None)\n",
    "#test_out = pd.read_csv(\"/content/DL_assignment/test_out - Copy.csv\", header=None, names=[\"label\"])"
   ]
  },
  {
   "cell_type": "code",
   "execution_count": 68,
   "metadata": {
    "colab": {
     "base_uri": "https://localhost:8080/",
     "height": 236
    },
    "id": "QRTNDv7FfMOe",
    "outputId": "4c6f403e-36bb-4e97-8182-5bff07fe01e9"
   },
   "outputs": [
    {
     "data": {
      "text/html": [
       "<div>\n",
       "<style scoped>\n",
       "    .dataframe tbody tr th:only-of-type {\n",
       "        vertical-align: middle;\n",
       "    }\n",
       "\n",
       "    .dataframe tbody tr th {\n",
       "        vertical-align: top;\n",
       "    }\n",
       "\n",
       "    .dataframe thead th {\n",
       "        text-align: right;\n",
       "    }\n",
       "</style>\n",
       "<table border=\"1\" class=\"dataframe\">\n",
       "  <thead>\n",
       "    <tr style=\"text-align: right;\">\n",
       "      <th></th>\n",
       "      <th>0</th>\n",
       "      <th>1</th>\n",
       "      <th>2</th>\n",
       "      <th>3</th>\n",
       "      <th>4</th>\n",
       "      <th>5</th>\n",
       "      <th>6</th>\n",
       "      <th>7</th>\n",
       "      <th>8</th>\n",
       "      <th>9</th>\n",
       "      <th>...</th>\n",
       "      <th>246</th>\n",
       "      <th>247</th>\n",
       "      <th>248</th>\n",
       "      <th>249</th>\n",
       "      <th>250</th>\n",
       "      <th>251</th>\n",
       "      <th>252</th>\n",
       "      <th>253</th>\n",
       "      <th>254</th>\n",
       "      <th>255</th>\n",
       "    </tr>\n",
       "  </thead>\n",
       "  <tbody>\n",
       "    <tr>\n",
       "      <th>0</th>\n",
       "      <td>-1.0</td>\n",
       "      <td>-1.0</td>\n",
       "      <td>-1.0</td>\n",
       "      <td>-1.000</td>\n",
       "      <td>-1.000</td>\n",
       "      <td>-1.000</td>\n",
       "      <td>-1.000</td>\n",
       "      <td>-0.631</td>\n",
       "      <td>0.862</td>\n",
       "      <td>-0.167</td>\n",
       "      <td>...</td>\n",
       "      <td>0.304</td>\n",
       "      <td>0.823</td>\n",
       "      <td>1.000</td>\n",
       "      <td>0.482</td>\n",
       "      <td>-0.474</td>\n",
       "      <td>-0.991</td>\n",
       "      <td>-1.000</td>\n",
       "      <td>-1.000</td>\n",
       "      <td>-1.000</td>\n",
       "      <td>-1.0</td>\n",
       "    </tr>\n",
       "    <tr>\n",
       "      <th>1</th>\n",
       "      <td>-1.0</td>\n",
       "      <td>-1.0</td>\n",
       "      <td>-1.0</td>\n",
       "      <td>-0.813</td>\n",
       "      <td>-0.671</td>\n",
       "      <td>-0.809</td>\n",
       "      <td>-0.887</td>\n",
       "      <td>-0.671</td>\n",
       "      <td>-0.853</td>\n",
       "      <td>-1.000</td>\n",
       "      <td>...</td>\n",
       "      <td>-0.671</td>\n",
       "      <td>-0.671</td>\n",
       "      <td>-0.033</td>\n",
       "      <td>0.761</td>\n",
       "      <td>0.762</td>\n",
       "      <td>0.126</td>\n",
       "      <td>-0.095</td>\n",
       "      <td>-0.671</td>\n",
       "      <td>-0.828</td>\n",
       "      <td>-1.0</td>\n",
       "    </tr>\n",
       "    <tr>\n",
       "      <th>2</th>\n",
       "      <td>-1.0</td>\n",
       "      <td>-1.0</td>\n",
       "      <td>-1.0</td>\n",
       "      <td>-1.000</td>\n",
       "      <td>-1.000</td>\n",
       "      <td>-1.000</td>\n",
       "      <td>-1.000</td>\n",
       "      <td>-1.000</td>\n",
       "      <td>-1.000</td>\n",
       "      <td>-0.996</td>\n",
       "      <td>...</td>\n",
       "      <td>-1.000</td>\n",
       "      <td>-1.000</td>\n",
       "      <td>-1.000</td>\n",
       "      <td>-0.109</td>\n",
       "      <td>1.000</td>\n",
       "      <td>-0.179</td>\n",
       "      <td>-1.000</td>\n",
       "      <td>-1.000</td>\n",
       "      <td>-1.000</td>\n",
       "      <td>-1.0</td>\n",
       "    </tr>\n",
       "    <tr>\n",
       "      <th>3</th>\n",
       "      <td>-1.0</td>\n",
       "      <td>-1.0</td>\n",
       "      <td>-1.0</td>\n",
       "      <td>-1.000</td>\n",
       "      <td>-1.000</td>\n",
       "      <td>-0.273</td>\n",
       "      <td>0.684</td>\n",
       "      <td>0.960</td>\n",
       "      <td>0.450</td>\n",
       "      <td>-0.067</td>\n",
       "      <td>...</td>\n",
       "      <td>-0.318</td>\n",
       "      <td>1.000</td>\n",
       "      <td>0.536</td>\n",
       "      <td>-0.987</td>\n",
       "      <td>-1.000</td>\n",
       "      <td>-1.000</td>\n",
       "      <td>-1.000</td>\n",
       "      <td>-1.000</td>\n",
       "      <td>-1.000</td>\n",
       "      <td>-1.0</td>\n",
       "    </tr>\n",
       "    <tr>\n",
       "      <th>4</th>\n",
       "      <td>-1.0</td>\n",
       "      <td>-1.0</td>\n",
       "      <td>-1.0</td>\n",
       "      <td>-1.000</td>\n",
       "      <td>-1.000</td>\n",
       "      <td>-0.928</td>\n",
       "      <td>-0.204</td>\n",
       "      <td>0.751</td>\n",
       "      <td>0.466</td>\n",
       "      <td>0.234</td>\n",
       "      <td>...</td>\n",
       "      <td>0.466</td>\n",
       "      <td>0.639</td>\n",
       "      <td>1.000</td>\n",
       "      <td>1.000</td>\n",
       "      <td>0.791</td>\n",
       "      <td>0.439</td>\n",
       "      <td>-0.199</td>\n",
       "      <td>-0.883</td>\n",
       "      <td>-1.000</td>\n",
       "      <td>-1.0</td>\n",
       "    </tr>\n",
       "  </tbody>\n",
       "</table>\n",
       "<p>5 rows × 256 columns</p>\n",
       "</div>"
      ],
      "text/plain": [
       "   0    1    2      3      4      5      6      7      8      9    ...    246  \\\n",
       "0 -1.0 -1.0 -1.0 -1.000 -1.000 -1.000 -1.000 -0.631  0.862 -0.167  ...  0.304   \n",
       "1 -1.0 -1.0 -1.0 -0.813 -0.671 -0.809 -0.887 -0.671 -0.853 -1.000  ... -0.671   \n",
       "2 -1.0 -1.0 -1.0 -1.000 -1.000 -1.000 -1.000 -1.000 -1.000 -0.996  ... -1.000   \n",
       "3 -1.0 -1.0 -1.0 -1.000 -1.000 -0.273  0.684  0.960  0.450 -0.067  ... -0.318   \n",
       "4 -1.0 -1.0 -1.0 -1.000 -1.000 -0.928 -0.204  0.751  0.466  0.234  ...  0.466   \n",
       "\n",
       "     247    248    249    250    251    252    253    254  255  \n",
       "0  0.823  1.000  0.482 -0.474 -0.991 -1.000 -1.000 -1.000 -1.0  \n",
       "1 -0.671 -0.033  0.761  0.762  0.126 -0.095 -0.671 -0.828 -1.0  \n",
       "2 -1.000 -1.000 -0.109  1.000 -0.179 -1.000 -1.000 -1.000 -1.0  \n",
       "3  1.000  0.536 -0.987 -1.000 -1.000 -1.000 -1.000 -1.000 -1.0  \n",
       "4  0.639  1.000  1.000  0.791  0.439 -0.199 -0.883 -1.000 -1.0  \n",
       "\n",
       "[5 rows x 256 columns]"
      ]
     },
     "execution_count": 68,
     "metadata": {},
     "output_type": "execute_result"
    }
   ],
   "source": [
    "train_in.head()"
   ]
  },
  {
   "cell_type": "code",
   "execution_count": 66,
   "metadata": {
    "colab": {
     "base_uri": "https://localhost:8080/",
     "height": 206
    },
    "id": "FY-zc0n5hxqZ",
    "outputId": "a5b68854-27e3-4e79-9353-fcaeee7d78b3"
   },
   "outputs": [
    {
     "data": {
      "text/html": [
       "<div>\n",
       "<style scoped>\n",
       "    .dataframe tbody tr th:only-of-type {\n",
       "        vertical-align: middle;\n",
       "    }\n",
       "\n",
       "    .dataframe tbody tr th {\n",
       "        vertical-align: top;\n",
       "    }\n",
       "\n",
       "    .dataframe thead th {\n",
       "        text-align: right;\n",
       "    }\n",
       "</style>\n",
       "<table border=\"1\" class=\"dataframe\">\n",
       "  <thead>\n",
       "    <tr style=\"text-align: right;\">\n",
       "      <th></th>\n",
       "      <th>label</th>\n",
       "    </tr>\n",
       "  </thead>\n",
       "  <tbody>\n",
       "    <tr>\n",
       "      <th>0</th>\n",
       "      <td>6</td>\n",
       "    </tr>\n",
       "    <tr>\n",
       "      <th>1</th>\n",
       "      <td>5</td>\n",
       "    </tr>\n",
       "    <tr>\n",
       "      <th>2</th>\n",
       "      <td>4</td>\n",
       "    </tr>\n",
       "    <tr>\n",
       "      <th>3</th>\n",
       "      <td>7</td>\n",
       "    </tr>\n",
       "    <tr>\n",
       "      <th>4</th>\n",
       "      <td>3</td>\n",
       "    </tr>\n",
       "  </tbody>\n",
       "</table>\n",
       "</div>"
      ],
      "text/plain": [
       "   label\n",
       "0      6\n",
       "1      5\n",
       "2      4\n",
       "3      7\n",
       "4      3"
      ]
     },
     "execution_count": 66,
     "metadata": {},
     "output_type": "execute_result"
    }
   ],
   "source": [
    "train_out.head()"
   ]
  },
  {
   "cell_type": "code",
   "execution_count": null,
   "metadata": {
    "colab": {
     "base_uri": "https://localhost:8080/"
    },
    "id": "dypYQ5JUfVa6",
    "outputId": "4ba4c5bc-72e0-4d50-b513-a8bcd79ba284"
   },
   "outputs": [],
   "source": [
    "train_in.shape, train_out.shape"
   ]
  },
  {
   "cell_type": "code",
   "execution_count": null,
   "metadata": {
    "id": "K4jU7wNkhhnk"
   },
   "outputs": [],
   "source": [
    "train = pd.concat([train_in, train_out], axis=1)\n",
    "test = pd.concat([test_in, test_out], axis=1)"
   ]
  },
  {
   "cell_type": "markdown",
   "metadata": {
    "id": "YjsqftOAgVK1"
   },
   "source": [
    "#  Task 1: Data dimensionality, distance-based classifiers"
   ]
  },
  {
   "cell_type": "markdown",
   "metadata": {
    "id": "qJqM1mYphaLQ"
   },
   "source": [
    "## Subtask 1"
   ]
  },
  {
   "cell_type": "code",
   "execution_count": null,
   "metadata": {
    "id": "kfNjZJ4chdI_"
   },
   "outputs": [],
   "source": [
    "grouped_labels = train.groupby('label')\n",
    "average_points = grouped_labels.mean()"
   ]
  },
  {
   "cell_type": "code",
   "execution_count": null,
   "metadata": {
    "colab": {
     "base_uri": "https://localhost:8080/",
     "height": 444
    },
    "id": "jEKJ3Wjxi8IE",
    "outputId": "424f0bb9-e463-44b1-9a2f-840b5091f2be"
   },
   "outputs": [],
   "source": [
    "average_points"
   ]
  },
  {
   "cell_type": "code",
   "execution_count": null,
   "metadata": {
    "id": "jrzh111Ni9VY"
   },
   "outputs": [],
   "source": [
    "dist_matrix = pdist(average_points, metric='euclidean')\n",
    "dist_matrix = squareform(dist_matrix)"
   ]
  },
  {
   "cell_type": "code",
   "execution_count": null,
   "metadata": {
    "colab": {
     "base_uri": "https://localhost:8080/"
    },
    "id": "Am4aBQXLlRmW",
    "outputId": "2b751cb7-5010-4cdf-de6f-599e3b9b55ec"
   },
   "outputs": [],
   "source": [
    "dist_matrix"
   ]
  },
  {
   "cell_type": "code",
   "execution_count": null,
   "metadata": {
    "colab": {
     "base_uri": "https://localhost:8080/",
     "height": 452
    },
    "id": "XuOhACDVltUm",
    "outputId": "18901cf9-c6af-4292-b190-7c3dfd98e0e4"
   },
   "outputs": [],
   "source": [
    "sns.heatmap(dist_matrix, annot=True, fmt=\".1f\", cmap='RdYlGn', linewidths=0.30).set(title='Distances between Cloud Centers');"
   ]
  },
  {
   "cell_type": "markdown",
   "metadata": {
    "id": "nhJmfOjvobvE"
   },
   "source": [
    "The pair of numbers that are close to each other are the following: (3, 5); (5, 6); (4, 9); (7, 9); (8, 9)."
   ]
  },
  {
   "cell_type": "markdown",
   "metadata": {
    "id": "YJgrAOvRovN7"
   },
   "source": [
    "## Subtask 2"
   ]
  },
  {
   "cell_type": "code",
   "execution_count": null,
   "metadata": {
    "colab": {
     "base_uri": "https://localhost:8080/",
     "height": 424
    },
    "id": "5BpV8e6Coy4j",
    "outputId": "d2fa3fb7-d451-4c5c-e680-498c49527b41"
   },
   "outputs": [],
   "source": [
    "pca = PCA(n_components=2)\n",
    "pca_train = pca.fit_transform(train.drop(columns=[\"label\"], inplace=False))\n",
    "pca_train_df = pd.DataFrame(pca_train, columns=[\"x\", \"y\"])\n",
    "pca_train_df = pd.concat([pca_train_df, train[\"label\"]], axis=1)\n",
    "pca_train_df"
   ]
  },
  {
   "cell_type": "code",
   "execution_count": null,
   "metadata": {
    "colab": {
     "base_uri": "https://localhost:8080/",
     "height": 906
    },
    "id": "PCvQee0dpxIP",
    "outputId": "17138a0f-818d-439d-d10e-6cd19f5de0f1"
   },
   "outputs": [],
   "source": [
    "plt.figure(figsize=(20,12))\n",
    "sns.scatterplot(data=pca_train_df, x=\"x\", y=\"y\", hue=\"label\", alpha=0.9, legend=\"full\", palette=\"tab10\").set(title='PCA');"
   ]
  },
  {
   "cell_type": "code",
   "execution_count": null,
   "metadata": {
    "colab": {
     "base_uri": "https://localhost:8080/",
     "height": 424
    },
    "id": "KM4ZUrq1qXoR",
    "outputId": "1bb9f630-e8be-4baf-8f14-0ba85d0db10b"
   },
   "outputs": [],
   "source": [
    "tsne = TSNE(n_components=2)\n",
    "tsne_train = tsne.fit_transform(train.drop(columns=[\"label\"], inplace=False))\n",
    "tsne_train_df = pd.DataFrame(tsne_train, columns=[\"x\", \"y\"])\n",
    "tsne_train_df = pd.concat([tsne_train_df, train[\"label\"]], axis=1)\n",
    "tsne_train_df"
   ]
  },
  {
   "cell_type": "code",
   "execution_count": null,
   "metadata": {
    "colab": {
     "base_uri": "https://localhost:8080/",
     "height": 901
    },
    "id": "r3IhinUZvelD",
    "outputId": "2130048e-8b95-4c6e-8df6-9cedcc300dd6"
   },
   "outputs": [],
   "source": [
    "plt.figure(figsize=(20,12))\n",
    "sns.scatterplot(data=tsne_train_df, x=\"x\", y=\"y\", hue=\"label\", alpha=0.9, legend=\"full\", palette=\"tab10\").set(title='TSNE');"
   ]
  },
  {
   "cell_type": "code",
   "execution_count": null,
   "metadata": {
    "colab": {
     "base_uri": "https://localhost:8080/",
     "height": 424
    },
    "id": "bsUyYPH1vr7i",
    "outputId": "1d2aceeb-f9c9-4b37-9651-05c9aa641007"
   },
   "outputs": [],
   "source": [
    "umap_ = UMAP(n_components=2)\n",
    "umap_train = umap_.fit_transform(train.drop(columns=[\"label\"], inplace=False))\n",
    "umap_train_df = pd.DataFrame(umap_train, columns=[\"x\", \"y\"])\n",
    "umap_train_df = pd.concat([umap_train_df, train[\"label\"]], axis=1)\n",
    "umap_train_df"
   ]
  },
  {
   "cell_type": "code",
   "execution_count": null,
   "metadata": {
    "colab": {
     "base_uri": "https://localhost:8080/",
     "height": 906
    },
    "id": "gFS5-z5fzFX-",
    "outputId": "d449ce97-fff7-4e91-881b-8c8bde006872"
   },
   "outputs": [],
   "source": [
    "plt.figure(figsize=(20,12))\n",
    "sns.scatterplot(data=umap_train_df, x=\"x\", y=\"y\", hue=\"label\", alpha=0.9, legend=\"full\", palette=\"tab10\").set(title='TSNE');"
   ]
  },
  {
   "cell_type": "markdown",
   "metadata": {
    "id": "riUsg2fG7t5T"
   },
   "source": [
    "## Subtask 3"
   ]
  },
  {
   "cell_type": "code",
   "execution_count": null,
   "metadata": {
    "colab": {
     "base_uri": "https://localhost:8080/"
    },
    "id": "gwqLc8EO7x5p",
    "outputId": "f946c10e-9180-4379-8431-611679287588"
   },
   "outputs": [],
   "source": [
    "nmc = NearestCentroid()\n",
    "nmc.fit(train_in, train_out.values.ravel())\n",
    "\n",
    "print(f\"Training Score: {nmc.score(train_in, train_out) * 100} %\")\n",
    "print(f\"Test Score: {nmc.score(test_in, test_out) * 100} %\")"
   ]
  },
  {
   "cell_type": "markdown",
   "metadata": {
    "id": "wI8eqV_12uyS"
   },
   "source": [
    "## Subtask 4"
   ]
  },
  {
   "cell_type": "code",
   "execution_count": null,
   "metadata": {
    "colab": {
     "base_uri": "https://localhost:8080/"
    },
    "id": "U_WPXp492Duj",
    "outputId": "ee3e466c-e40f-4889-d249-0b49622f624c"
   },
   "outputs": [],
   "source": [
    "knn = KNeighborsClassifier()\n",
    "knn.fit(train_in, train_out.values.ravel())\n",
    "\n",
    "print(f\"Training Score: {knn.score(train_in, train_out) * 100} %\")\n",
    "print(f\"Test Score: {knn.score(test_in, test_out) * 100} %\")"
   ]
  },
  {
   "cell_type": "code",
   "execution_count": null,
   "metadata": {
    "id": "cj2iNu9i3YRX"
   },
   "outputs": [],
   "source": [
    "nmc_test_pred = nmc.predict(test_in)\n",
    "knn_test_pred = knn.predict(test_in)"
   ]
  },
  {
   "cell_type": "code",
   "execution_count": null,
   "metadata": {
    "colab": {
     "base_uri": "https://localhost:8080/",
     "height": 452
    },
    "id": "lwMI00aP3mNC",
    "outputId": "9493348e-2a37-4dc5-ea6d-a48fd2b1697d"
   },
   "outputs": [],
   "source": [
    "nmc_conf = confusion_matrix(test_out, nmc_test_pred, labels=range(0, 10))\n",
    "sns.heatmap(nmc_conf, annot=True, fmt=\".0f\", cmap='RdYlGn', linewidths=0.30).set(title='Confusion Matrix for Nearest Mean Classifier');"
   ]
  },
  {
   "cell_type": "code",
   "execution_count": null,
   "metadata": {
    "colab": {
     "base_uri": "https://localhost:8080/",
     "height": 452
    },
    "id": "2inGBP2d4EWs",
    "outputId": "e8317603-5792-45f2-8b4a-f0d775f90dec"
   },
   "outputs": [],
   "source": [
    "knn_conf = confusion_matrix(test_out, knn_test_pred, labels=range(0, 10))\n",
    "sns.heatmap(knn_conf, annot=True, fmt=\".0f\", cmap='RdYlGn', linewidths=0.30).set(title='Confusion Matrix for K Neighbors Classifier');"
   ]
  },
  {
   "cell_type": "code",
   "execution_count": null,
   "metadata": {
    "id": "q3dRYnJk4G0m"
   },
   "outputs": [],
   "source": []
  }
 ],
 "metadata": {
  "colab": {
   "provenance": [],
   "toc_visible": true
  },
  "kernelspec": {
   "display_name": "Python 3 (ipykernel)",
   "language": "python",
   "name": "python3"
  },
  "language_info": {
   "codemirror_mode": {
    "name": "ipython",
    "version": 3
   },
   "file_extension": ".py",
   "mimetype": "text/x-python",
   "name": "python",
   "nbconvert_exporter": "python",
   "pygments_lexer": "ipython3",
   "version": "3.10.12"
  }
 },
 "nbformat": 4,
 "nbformat_minor": 4
}
